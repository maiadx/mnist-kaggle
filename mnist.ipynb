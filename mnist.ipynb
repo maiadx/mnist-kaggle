{
 "cells": [
  {
   "cell_type": "markdown",
   "metadata": {},
   "source": [
    "NN from scratch on MNIST dataset Kaggle Competition"
   ]
  },
  {
   "cell_type": "code",
   "execution_count": 7,
   "metadata": {},
   "outputs": [
    {
     "name": "stdout",
     "output_type": "stream",
     "text": [
      "kaggle/input/t10k-images.idx3-ubyte\n",
      "kaggle/input/t10k-labels.idx1-ubyte\n",
      "kaggle/input/train-images.idx3-ubyte\n",
      "kaggle/input/train-labels.idx1-ubyte\n",
      "kaggle/input/train-images-idx3-ubyte/train-images-idx3-ubyte\n",
      "kaggle/input/t10k-images-idx3-ubyte/t10k-images-idx3-ubyte\n",
      "kaggle/input/train-labels-idx1-ubyte/train-labels-idx1-ubyte\n",
      "kaggle/input/t10k-labels-idx1-ubyte/t10k-labels-idx1-ubyte\n"
     ]
    }
   ],
   "source": [
    "import numpy as np \n",
    "import pandas as pd\n",
    "import os\n",
    "    \n",
    "\n",
    "\n",
    "for dirname, _, filenames in os.walk('kaggle/input'):\n",
    "    for filename in filenames: \n",
    "        print(os.path.join(dirname, filename))"
   ]
  },
  {
   "cell_type": "markdown",
   "metadata": {},
   "source": [
    "(28 x 28 = 704) x 10 x 10"
   ]
  },
  {
   "cell_type": "code",
   "execution_count": null,
   "metadata": {},
   "outputs": [],
   "source": []
  }
 ],
 "metadata": {
  "kernelspec": {
   "display_name": ".venv",
   "language": "python",
   "name": "python3"
  },
  "language_info": {
   "codemirror_mode": {
    "name": "ipython",
    "version": 3
   },
   "file_extension": ".py",
   "mimetype": "text/x-python",
   "name": "python",
   "nbconvert_exporter": "python",
   "pygments_lexer": "ipython3",
   "version": "3.11.8"
  }
 },
 "nbformat": 4,
 "nbformat_minor": 4
}
